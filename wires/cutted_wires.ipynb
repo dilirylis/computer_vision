{
 "cells": [
  {
   "cell_type": "code",
   "execution_count": 1,
   "id": "7d3fda9a",
   "metadata": {},
   "outputs": [
    {
     "data": {
      "image/png": "[encoded data removed]",
      "text/plain": [
       "<Figure size 432x288 with 1 Axes>"
      ]
     },
     "metadata": {
      "needs_background": "light"
     },
     "output_type": "display_data"
    }
   ],
   "source": [
    "import numpy as np\n",
    "from matplotlib import pyplot as plt\n",
    "from skimage.measure import label\n",
    "from skimage.morphology import binary_dilation\n",
    "\n",
    "image = np.load('./images/wires4.npy')\n",
    "\n",
    "plt.figure(1)\n",
    "plt.imshow(image)\n",
    "plt.show()"
   ]
  },
  {
   "cell_type": "code",
   "execution_count": 2,
   "id": "c52834c5",
   "metadata": {},
   "outputs": [],
   "source": [
    "labels = label(image)"
   ]
  },
  {
   "cell_type": "code",
   "execution_count": 3,
   "id": "07a84817",
   "metadata": {},
   "outputs": [
    {
     "name": "stdout",
     "output_type": "stream",
     "text": [
      "Количество проводов: 2\n"
     ]
    }
   ],
   "source": [
    "quantity_of_wires = np.amax(labels)\n",
    "\n",
    "print(f\"Количество проводов: {quantity_of_wires}\")"
   ]
  },
  {
   "cell_type": "code",
   "execution_count": 4,
   "id": "211c0343",
   "metadata": {},
   "outputs": [
    {
     "data": {
      "image/png": "[encoded data removed]",
      "text/plain": [
       "<Figure size 432x288 with 1 Axes>"
      ]
     },
     "metadata": {
      "needs_background": "light"
     },
     "output_type": "display_data"
    },
    {
     "name": "stdout",
     "output_type": "stream",
     "text": [
      "Провод с номером 1 имеет 2 разрезов и делит его на 3 частей\n"
     ]
    },
    {
     "data": {
      "image/png": "[encoded data removed]",
      "text/plain": [
       "<Figure size 432x288 with 1 Axes>"
      ]
     },
     "metadata": {
      "needs_background": "light"
     },
     "output_type": "display_data"
    },
    {
     "name": "stdout",
     "output_type": "stream",
     "text": [
      "Провод с номером 2 имеет 0 разрезов и делит его на 1 частей\n"
     ]
    }
   ],
   "source": [
    "footprint =  np.zeros((5, 3))\n",
    "footprint[:, 1:2] = 1\n",
    "\n",
    "for label_number in range(1, quantity_of_wires + 1):\n",
    "    filtered_by_label = labels == label_number\n",
    "    \n",
    "    x = np.where(np.any(filtered_by_label, axis=0))[0]\n",
    "    y = np.where(np.any(filtered_by_label, axis=1))[0]\n",
    "\n",
    "    x_first, x_last = x[0], x[-1]\n",
    "    y_first, y_last = y[0], y[-1]\n",
    "\n",
    "    wire = labels[y_first:(y_last+1), x_first:(x_last+1)]\n",
    "    wire = wire != label_number\n",
    "    \n",
    "    wire_dilationed = binary_dilation(wire, footprint)\n",
    "    labeled_wire = label(wire_dilationed)\n",
    "    \n",
    "    plt.figure(1)\n",
    "    plt.imshow(labeled_wire)\n",
    "    plt.show()\n",
    "\n",
    "    quantity_of_cuts = np.max(labeled_wire)\n",
    "    print(f\"Провод с номером {label_number} имеет {quantity_of_cuts} разрезов и делит его на {quantity_of_cuts + 1} частей\")"
   ]
  },
  {
   "cell_type": "code",
   "execution_count": null,
   "id": "0f8d8b68",
   "metadata": {},
   "outputs": [],
   "source": []
  }
 ],
 "metadata": {
  "kernelspec": {
   "display_name": "Python 3 (ipykernel)",
   "language": "python",
   "name": "python3"
  },
  "language_info": {
   "codemirror_mode": {
    "name": "ipython",
    "version": 3
   },
   "file_extension": ".py",
   "mimetype": "text/x-python",
   "name": "python",
   "nbconvert_exporter": "python",
   "pygments_lexer": "ipython3",
   "version": "3.9.12"
  }
 },
 "nbformat": 4,
 "nbformat_minor": 5
}
